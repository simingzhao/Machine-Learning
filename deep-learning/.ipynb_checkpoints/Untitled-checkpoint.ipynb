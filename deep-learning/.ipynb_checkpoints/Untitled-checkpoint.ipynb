{
 "cells": [
  {
   "cell_type": "code",
   "execution_count": 20,
   "metadata": {},
   "outputs": [
    {
     "name": "stdout",
     "output_type": "stream",
     "text": [
      "Input layer has mean -0.000609 and std 0.999301\n",
      "Hidden layer 1 has mean 0.564645 and std 0.826593\n",
      "Hidden layer 2 has mean 0.562169 and std 0.825343\n",
      "Hidden layer 3 has mean 0.583652 and std 0.841909\n",
      "Hidden layer 4 has mean 0.544434 and std 0.823735\n",
      "Hidden layer 5 has mean 0.618359 and std 0.849080\n",
      "Hidden layer 6 has mean 0.609601 and std 0.882002\n",
      "Hidden layer 7 has mean 0.610480 and std 0.917416\n",
      "Hidden layer 8 has mean 0.665889 and std 0.943889\n",
      "Hidden layer 9 has mean 0.634306 and std 0.973887\n",
      "Hidden layer 10 has mean 0.655024 and std 0.971304\n"
     ]
    }
   ],
   "source": [
    "import numpy as np\n",
    "\n",
    "D = np.random.randn(1000, 500)\n",
    "hidden_layer_size = [500]*10\n",
    "nonlinearities = ['relu']*len(hidden_layer_size)\n",
    "\n",
    "act = {'relu': lambda x:np.maximum(0, x), 'tanh': lambda x:np.tanh(x)}\n",
    "Hs = {}\n",
    "for i in range(len(hidden_layer_size)):\n",
    "    X = D if i == 0 else Hs[i-1]\n",
    "    fan_in = X.shape[1]\n",
    "    fan_out = hidden_layer_size[i]\n",
    "    W = np.random.randn(fan_in, fan_out) / np.sqrt(fan_in/2)\n",
    "    \n",
    "    H = np.dot(X, W)\n",
    "    H = act[nonlinearities[i]](H)\n",
    "    Hs[i] = H\n",
    "    \n",
    "print('Input layer has mean %f and std %f' %(np.mean(D), np.std(D)))\n",
    "layer_means = [np.mean(H) for _, H in Hs.items()]\n",
    "layer_std = [np.std(H) for _, H in Hs.items()]\n",
    "for i in range(len(hidden_layer_size)):\n",
    "    print('Hidden layer %d has mean %f and std %f'%(i+1, layer_means[i], layer_std[i]))\n",
    "    "
   ]
  },
  {
   "cell_type": "code",
   "execution_count": null,
   "metadata": {},
   "outputs": [],
   "source": []
  }
 ],
 "metadata": {
  "kernelspec": {
   "display_name": "Python 3",
   "language": "python",
   "name": "python3"
  },
  "language_info": {
   "codemirror_mode": {
    "name": "ipython",
    "version": 3
   },
   "file_extension": ".py",
   "mimetype": "text/x-python",
   "name": "python",
   "nbconvert_exporter": "python",
   "pygments_lexer": "ipython3",
   "version": "3.6.6"
  }
 },
 "nbformat": 4,
 "nbformat_minor": 2
}
